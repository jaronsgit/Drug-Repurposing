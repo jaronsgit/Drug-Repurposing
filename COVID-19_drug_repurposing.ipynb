{
 "cells": [
  {
   "cell_type": "markdown",
   "metadata": {},
   "source": [
    "# COVID-19 Drug Repurposing via disease-compounds relations\n",
    "This example shows how to do drug repurposing using DRKG even with the pretrained model."
   ]
  },
  {
   "cell_type": "markdown",
   "metadata": {},
   "source": [
    "## Collecting COVID-19 related disease\n",
    "At the very beginning we need to collect a list of disease of Corona-Virus(COV) in DRKG. We can easily use the Disease ID that DRKG uses for encoding the disease. Here we take all of the COV disease as target."
   ]
  },
  {
   "cell_type": "code",
   "execution_count": 1,
   "metadata": {},
   "outputs": [],
   "source": [
    "COV_disease_list = [\n",
    "'Disease::SARS-CoV2 E',\n",
    "'Disease::SARS-CoV2 M',\n",
    "'Disease::SARS-CoV2 N',\n",
    "'Disease::SARS-CoV2 Spike',\n",
    "'Disease::SARS-CoV2 nsp1',\n",
    "'Disease::SARS-CoV2 nsp10',\n",
    "'Disease::SARS-CoV2 nsp11',\n",
    "'Disease::SARS-CoV2 nsp12',\n",
    "'Disease::SARS-CoV2 nsp13',\n",
    "'Disease::SARS-CoV2 nsp14',\n",
    "'Disease::SARS-CoV2 nsp15',\n",
    "'Disease::SARS-CoV2 nsp2',\n",
    "'Disease::SARS-CoV2 nsp4',\n",
    "'Disease::SARS-CoV2 nsp5',\n",
    "'Disease::SARS-CoV2 nsp5_C145A',\n",
    "'Disease::SARS-CoV2 nsp6',\n",
    "'Disease::SARS-CoV2 nsp7',\n",
    "'Disease::SARS-CoV2 nsp8',\n",
    "'Disease::SARS-CoV2 nsp9',\n",
    "'Disease::SARS-CoV2 orf10',\n",
    "'Disease::SARS-CoV2 orf3a',\n",
    "'Disease::SARS-CoV2 orf3b',\n",
    "'Disease::SARS-CoV2 orf6',\n",
    "'Disease::SARS-CoV2 orf7a',\n",
    "'Disease::SARS-CoV2 orf8',\n",
    "'Disease::SARS-CoV2 orf9b',\n",
    "'Disease::SARS-CoV2 orf9c',\n",
    "'Disease::MESH:D045169',\n",
    "'Disease::MESH:D045473',\n",
    "'Disease::MESH:D001351',\n",
    "'Disease::MESH:D065207',\n",
    "'Disease::MESH:D028941',\n",
    "'Disease::MESH:D058957',\n",
    "'Disease::MESH:D006517'\n",
    "]"
   ]
  },
  {
   "cell_type": "markdown",
   "metadata": {},
   "source": [
    "## Candidate drugs\n",
    "Now we use FDA-approved drugs in Drugbank as candidate drugs. (we exclude drugs with molecule weight < 250) The drug list is in infer\\_drug.tsv"
   ]
  },
  {
   "cell_type": "code",
   "execution_count": 2,
   "metadata": {},
   "outputs": [],
   "source": [
    "import csv\n",
    "\n",
    "# Load entity file\n",
    "drug_list = []\n",
    "with open(\"./infer_drug.tsv\", newline='', encoding='utf-8') as csvfile:\n",
    "    reader = csv.DictReader(csvfile, delimiter='\\t', fieldnames=['drug','ids'])\n",
    "    for row_val in reader:\n",
    "        drug_list.append(row_val['drug'])"
   ]
  },
  {
   "cell_type": "code",
   "execution_count": 3,
   "metadata": {},
   "outputs": [
    {
     "data": {
      "text/plain": [
       "8104"
      ]
     },
     "execution_count": 3,
     "metadata": {},
     "output_type": "execute_result"
    }
   ],
   "source": [
    "len(drug_list)"
   ]
  },
  {
   "cell_type": "markdown",
   "metadata": {},
   "source": [
    "## Treatment relation"
   ]
  },
  {
   "cell_type": "markdown",
   "metadata": {},
   "source": [
    "Two treatment relations in this context"
   ]
  },
  {
   "cell_type": "code",
   "execution_count": 4,
   "metadata": {},
   "outputs": [],
   "source": [
    "treatment = ['Hetionet::CtD::Compound:Disease','GNBR::T::Compound:Disease']"
   ]
  },
  {
   "cell_type": "markdown",
   "metadata": {},
   "source": [
    "## Get pretrained model\n",
    "We can directly use the pretrianed model to do drug repurposing."
   ]
  },
  {
   "cell_type": "code",
   "execution_count": 5,
   "metadata": {},
   "outputs": [],
   "source": [
    "import pandas as pd\n",
    "import numpy as np\n",
    "import sys\n",
    "# sys.path.insert(1, '../utils')\n",
    "# from utils import download_and_extract\n",
    "# download_and_extract()"
   ]
  },
  {
   "cell_type": "code",
   "execution_count": 6,
   "metadata": {},
   "outputs": [],
   "source": [
    "entity_idmap_file = './embed/entities.tsv'\n",
    "relation_idmap_file = './embed/relations.tsv'"
   ]
  },
  {
   "cell_type": "markdown",
   "metadata": {},
   "source": [
    "## Get embeddings for diseases and drugs"
   ]
  },
  {
   "cell_type": "code",
   "execution_count": 7,
   "metadata": {},
   "outputs": [],
   "source": [
    "# Get drugname/disease name to entity ID mappings\n",
    "entity_map = {}\n",
    "entity_id_map = {}\n",
    "relation_map = {}\n",
    "with open(entity_idmap_file, newline='', encoding='utf-8') as csvfile:\n",
    "    reader = csv.DictReader(csvfile, delimiter='\\t', fieldnames=['name','id'])\n",
    "    for row_val in reader:\n",
    "        entity_map[row_val['name']] = int(row_val['id'])\n",
    "        entity_id_map[int(row_val['id'])] = row_val['name']\n",
    "        \n",
    "with open(relation_idmap_file, newline='', encoding='utf-8') as csvfile:\n",
    "    reader = csv.DictReader(csvfile, delimiter='\\t', fieldnames=['name','id'])\n",
    "    for row_val in reader:\n",
    "        relation_map[row_val['name']] = int(row_val['id'])\n",
    "        \n",
    "# handle the ID mapping\n",
    "drug_ids = []\n",
    "disease_ids = []\n",
    "for drug in drug_list:\n",
    "    drug_ids.append(entity_map[drug])\n",
    "    \n",
    "for disease in COV_disease_list:\n",
    "    disease_ids.append(entity_map[disease])\n",
    "\n",
    "treatment_rid = [relation_map[treat]  for treat in treatment]"
   ]
  },
  {
   "cell_type": "code",
   "execution_count": 8,
   "metadata": {},
   "outputs": [],
   "source": [
    "# Load embeddings\n",
    "import torch as th\n",
    "entity_emb = np.load('./embed/DRKG_TransE_l2_entity.npy')\n",
    "rel_emb = np.load('./embed/DRKG_TransE_l2_relation.npy')\n",
    "\n",
    "drug_ids = th.tensor(drug_ids).long()\n",
    "disease_ids = th.tensor(disease_ids).long()\n",
    "treatment_rid = th.tensor(treatment_rid)\n",
    "\n",
    "drug_emb = th.tensor(entity_emb[drug_ids])\n",
    "treatment_embs = [th.tensor(rel_emb[rid]) for rid in treatment_rid]"
   ]
  },
  {
   "cell_type": "markdown",
   "metadata": {},
   "source": [
    "## Drug Repurposing Based on Edge Score\n",
    "We use following algorithm to calculate the edge score. Note, here we use logsigmiod to make all scores < 0. The larger the score is, the stronger the $h$ will have $r$ with $t$.\n",
    "\n",
    "$\\mathbf{d} = \\gamma - ||\\mathbf{h}+\\mathbf{r}-\\mathbf{t}||_{2}$\n",
    "\n",
    "$\\mathbf{score} = \\log\\left(\\frac{1}{1+\\exp(\\mathbf{-d})}\\right)$\n",
    "\n",
    "When doing drug repurposing, we only use the treatment related relations."
   ]
  },
  {
   "cell_type": "code",
   "execution_count": 9,
   "metadata": {},
   "outputs": [
    {
     "name": "stderr",
     "output_type": "stream",
     "text": [
      "/tmp/ipykernel_79695/3734483518.py:5: DeprecationWarning: __array_wrap__ must accept context and return_scalar arguments (positionally) in the future. (Deprecated NumPy 2.0)\n",
      "  score = head + rel - tail\n"
     ]
    }
   ],
   "source": [
    "import torch.nn.functional as fn\n",
    "\n",
    "gamma=12.0\n",
    "def transE_l2(head, rel, tail):\n",
    "    score = head + rel - tail\n",
    "    return gamma - th.norm(score, p=2, dim=-1)\n",
    "\n",
    "scores_per_disease = []\n",
    "dids = []\n",
    "for rid in range(len(treatment_embs)):\n",
    "    treatment_emb=treatment_embs[rid]\n",
    "    for disease_id in disease_ids:\n",
    "        disease_emb = entity_emb[disease_id]\n",
    "        score = fn.logsigmoid(transE_l2(drug_emb, treatment_emb, disease_emb))\n",
    "        scores_per_disease.append(score)\n",
    "        dids.append(drug_ids)\n",
    "scores = th.cat(scores_per_disease)\n",
    "dids = th.cat(dids)\n"
   ]
  },
  {
   "cell_type": "code",
   "execution_count": 10,
   "metadata": {},
   "outputs": [],
   "source": [
    "# sort scores in decending order\n",
    "idx = th.flip(th.argsort(scores), dims=[0])\n",
    "scores = scores[idx].numpy()\n",
    "dids = dids[idx].numpy()"
   ]
  },
  {
   "cell_type": "markdown",
   "metadata": {},
   "source": [
    "### Now we output proposed treatments"
   ]
  },
  {
   "cell_type": "code",
   "execution_count": 11,
   "metadata": {},
   "outputs": [],
   "source": [
    "_, unique_indices = np.unique(dids, return_index=True)\n",
    "topk=100\n",
    "topk_indices = np.sort(unique_indices)[:topk]\n",
    "proposed_dids = dids[topk_indices]\n",
    "proposed_scores = scores[topk_indices]"
   ]
  },
  {
   "cell_type": "markdown",
   "metadata": {},
   "source": [
    "Now we list the pairs of in form of (drug, treat, disease, score) \n",
    "\n",
    "We select top K relevent drugs according the edge score"
   ]
  },
  {
   "cell_type": "code",
   "execution_count": 12,
   "metadata": {},
   "outputs": [
    {
     "name": "stdout",
     "output_type": "stream",
     "text": [
      "Compound::DB00811\t-0.21416780352592468\n",
      "Compound::DB00993\t-0.8350887298583984\n",
      "Compound::DB00635\t-0.8974790573120117\n",
      "Compound::DB01082\t-0.985488772392273\n",
      "Compound::DB01234\t-0.9984012842178345\n",
      "Compound::DB00982\t-1.0160716772079468\n",
      "Compound::DB00563\t-1.0189464092254639\n",
      "Compound::DB00290\t-1.0641062259674072\n",
      "Compound::DB01394\t-1.080676555633545\n",
      "Compound::DB01222\t-1.084547519683838\n",
      "Compound::DB00415\t-1.0853973627090454\n",
      "Compound::DB01004\t-1.096669316291809\n",
      "Compound::DB00860\t-1.1004788875579834\n",
      "Compound::DB00681\t-1.1011555194854736\n",
      "Compound::DB00688\t-1.1256868839263916\n",
      "Compound::DB00624\t-1.1428292989730835\n",
      "Compound::DB00959\t-1.1618409156799316\n",
      "Compound::DB00115\t-1.186812400817871\n",
      "Compound::DB00091\t-1.1906721591949463\n",
      "Compound::DB01024\t-1.2051165103912354\n",
      "Compound::DB00741\t-1.2147064208984375\n",
      "Compound::DB00441\t-1.2320411205291748\n",
      "Compound::DB00158\t-1.2346546649932861\n",
      "Compound::DB00499\t-1.252516746520996\n",
      "Compound::DB00929\t-1.2730495929718018\n",
      "Compound::DB00770\t-1.282552719116211\n",
      "Compound::DB01331\t-1.2960493564605713\n",
      "Compound::DB00958\t-1.296778917312622\n",
      "Compound::DB02527\t-1.3034359216690063\n",
      "Compound::DB00196\t-1.3053343296051025\n",
      "Compound::DB00537\t-1.3131842613220215\n",
      "Compound::DB00644\t-1.3131849765777588\n",
      "Compound::DB01048\t-1.3267205953598022\n",
      "Compound::DB00552\t-1.3272082805633545\n",
      "Compound::DB00328\t-1.3286100625991821\n",
      "Compound::DB00171\t-1.3300385475158691\n",
      "Compound::DB01212\t-1.33307683467865\n",
      "Compound::DB09093\t-1.3382985591888428\n",
      "Compound::DB00783\t-1.3385637998580933\n",
      "Compound::DB09341\t-1.3396947383880615\n",
      "Compound::DB00558\t-1.3425898551940918\n",
      "Compound::DB05382\t-1.3575100898742676\n",
      "Compound::DB01112\t-1.3584487438201904\n",
      "Compound::DB00515\t-1.3608112335205078\n",
      "Compound::DB01101\t-1.3815491199493408\n",
      "Compound::DB01165\t-1.3838152885437012\n",
      "Compound::DB01183\t-1.3862131834030151\n",
      "Compound::DB00815\t-1.3863469362258911\n",
      "Compound::DB00755\t-1.3881793022155762\n",
      "Compound::DB00198\t-1.3885042667388916\n",
      "Compound::DB00480\t-1.3935296535491943\n",
      "Compound::DB00806\t-1.3996552228927612\n",
      "Compound::DB01656\t-1.3999735116958618\n",
      "Compound::DB00759\t-1.4046530723571777\n",
      "Compound::DB00917\t-1.4116041660308838\n",
      "Compound::DB01181\t-1.4148895740509033\n",
      "Compound::DB01039\t-1.4176596403121948\n",
      "Compound::DB00512\t-1.4207416772842407\n",
      "Compound::DB01233\t-1.4211865663528442\n",
      "Compound::DB11996\t-1.4257901906967163\n",
      "Compound::DB00738\t-1.4274098873138428\n",
      "Compound::DB00716\t-1.4327492713928223\n",
      "Compound::DB03461\t-1.437927484512329\n",
      "Compound::DB00591\t-1.4404346942901611\n",
      "Compound::DB01327\t-1.4408750534057617\n",
      "Compound::DB00131\t-1.4446901082992554\n",
      "Compound::DB00693\t-1.4460757970809937\n",
      "Compound::DB00369\t-1.4505729675292969\n",
      "Compound::DB04630\t-1.453115463256836\n",
      "Compound::DB00878\t-1.4564695358276367\n",
      "Compound::DB08818\t-1.4633687734603882\n",
      "Compound::DB00682\t-1.4691758155822754\n",
      "Compound::DB01068\t-1.470010757446289\n",
      "Compound::DB00446\t-1.4720206260681152\n",
      "Compound::DB01115\t-1.4729849100112915\n",
      "Compound::DB00355\t-1.4770021438598633\n",
      "Compound::DB01030\t-1.4850695133209229\n",
      "Compound::DB00620\t-1.497349500656128\n",
      "Compound::DB00396\t-1.497694492340088\n",
      "Compound::DB01073\t-1.498704433441162\n",
      "Compound::DB00640\t-1.502620816230774\n",
      "Compound::DB00999\t-1.503427505493164\n",
      "Compound::DB01060\t-1.5043613910675049\n",
      "Compound::DB00493\t-1.5072377920150757\n",
      "Compound::DB01240\t-1.5090980529785156\n",
      "Compound::DB00364\t-1.5099471807479858\n",
      "Compound::DB01263\t-1.5119924545288086\n",
      "Compound::DB00746\t-1.5130668878555298\n",
      "Compound::DB00718\t-1.5183119773864746\n",
      "Compound::DB01065\t-1.5207159519195557\n",
      "Compound::DB01205\t-1.521277904510498\n",
      "Compound::DB01137\t-1.5229606628417969\n",
      "Compound::DB08894\t-1.5239675045013428\n",
      "Compound::DB00813\t-1.5308716297149658\n",
      "Compound::DB01157\t-1.5316542387008667\n",
      "Compound::DB04570\t-1.5430858135223389\n",
      "Compound::DB00459\t-1.550320029258728\n",
      "Compound::DB01752\t-1.554166555404663\n",
      "Compound::DB00775\t-1.555970549583435\n",
      "Compound::DB01610\t-1.5563467741012573\n"
     ]
    }
   ],
   "source": [
    "for i in range(topk):\n",
    "    drug = int(proposed_dids[i])\n",
    "    score = proposed_scores[i]\n",
    "    \n",
    "    print(\"{}\\t{}\".format(entity_id_map[drug], score))"
   ]
  },
  {
   "cell_type": "markdown",
   "metadata": {},
   "source": [
    "### Check Clinial Trial Drugs\n",
    "There are seven clinial trial drugs hit in top100. (Note: Ribavirin exists in DRKG as a treatment for SARS)"
   ]
  },
  {
   "cell_type": "code",
   "execution_count": 13,
   "metadata": {},
   "outputs": [
    {
     "name": "stdout",
     "output_type": "stream",
     "text": [
      "[0]\tRibavirin\t-0.21416780352592468\n",
      "[4]\tDexamethasone\t-0.9984012842178345\n",
      "[8]\tColchicine\t-1.080676555633545\n",
      "[16]\tMethylprednisolone\t-1.1618409156799316\n",
      "[49]\tOseltamivir\t-1.3885042667388916\n",
      "[87]\tDeferoxamine\t-1.5130668878555298\n"
     ]
    }
   ],
   "source": [
    "clinical_drugs_file = './COVID19_clinical_trial_drugs.tsv'\n",
    "clinical_drug_map = {}\n",
    "with open(clinical_drugs_file, newline='', encoding='utf-8') as csvfile:\n",
    "    reader = csv.DictReader(csvfile, delimiter='\\t', fieldnames=['id', 'drug_name','drug_id'])\n",
    "    for row_val in reader:\n",
    "        clinical_drug_map[row_val['drug_id']] = row_val['drug_name']\n",
    "        \n",
    "for i in range(topk):\n",
    "    drug = entity_id_map[int(proposed_dids[i])][10:17]\n",
    "    if clinical_drug_map.get(drug, None) is not None:\n",
    "        score = proposed_scores[i]\n",
    "        print(\"[{}]\\t{}\\t{}\".format(i, clinical_drug_map[drug],score , proposed_scores[i]))"
   ]
  },
  {
   "cell_type": "code",
   "execution_count": 14,
   "metadata": {},
   "outputs": [
    {
     "data": {
      "text/plain": [
       "32"
      ]
     },
     "execution_count": 14,
     "metadata": {},
     "output_type": "execute_result"
    }
   ],
   "source": [
    "len(clinical_drug_map)"
   ]
  },
  {
   "cell_type": "code",
   "execution_count": null,
   "metadata": {},
   "outputs": [],
   "source": []
  },
  {
   "cell_type": "code",
   "execution_count": null,
   "metadata": {},
   "outputs": [],
   "source": []
  },
  {
   "cell_type": "code",
   "execution_count": null,
   "metadata": {},
   "outputs": [],
   "source": []
  },
  {
   "cell_type": "code",
   "execution_count": null,
   "metadata": {},
   "outputs": [],
   "source": []
  },
  {
   "cell_type": "code",
   "execution_count": null,
   "metadata": {},
   "outputs": [],
   "source": []
  }
 ],
 "metadata": {
  "kernelspec": {
   "display_name": "Python 3",
   "language": "python",
   "name": "python3"
  },
  "language_info": {
   "codemirror_mode": {
    "name": "ipython",
    "version": 3
   },
   "file_extension": ".py",
   "mimetype": "text/x-python",
   "name": "python",
   "nbconvert_exporter": "python",
   "pygments_lexer": "ipython3",
   "version": "3.10.15"
  }
 },
 "nbformat": 4,
 "nbformat_minor": 4
}
